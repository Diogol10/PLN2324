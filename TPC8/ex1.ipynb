{
 "cells": [
  {
   "attachments": {},
   "cell_type": "markdown",
   "metadata": {},
   "source": [
    "### Training a Model"
   ]
  },
  {
   "cell_type": "code",
   "execution_count": 13,
   "metadata": {
    "ExecuteTime": {
     "end_time": "2024-05-02T21:28:55.365443600Z",
     "start_time": "2024-05-02T21:28:55.333402600Z"
    }
   },
   "outputs": [],
   "source": [
    "from gensim.models import Word2Vec\n",
    "\n",
    "# define training data\n",
    "sentences = [['this', 'is', 'the', 'first', 'sentence', 'for', 'word2vec'],\n",
    "\t\t\t['this', 'is', 'the', 'second', 'sentence'],\n",
    "\t\t\t['yet', 'another', 'sentence'],\n",
    "\t\t\t['one', 'more', 'sentence'],\n",
    "\t\t\t['and', 'the', 'final', 'sentence']]\n",
    "\n",
    "model = Word2Vec(sentences, vector_size=100, window=5, min_count=1, sg=1, epochs=5, workers=3)"
   ]
  },
  {
   "attachments": {},
   "cell_type": "markdown",
   "metadata": {},
   "source": [
    "At its core, word2vec model parameters are stored as matrices (NumPy arrays). Each array is `#vocabulary` (controlled by the min_count parameter) times vector size (the vector_size parameter) of floats (single precision aka 4 bytes).\n",
    "\n",
    "Three such matrices are held in RAM (work is underway to reduce that number to two, or even one). So if your input contains 100,000 unique words, and you asked for layer vector_size=200, the model will require approx. `100,000 * 200 * 4 * 3 bytes = ~229MB`.\n",
    "\n",
    "(There’s a little extra memory needed for storing the vocabulary tree.)"
   ]
  },
  {
   "cell_type": "code",
   "execution_count": 14,
   "metadata": {
    "ExecuteTime": {
     "end_time": "2024-05-02T21:28:57.474844100Z",
     "start_time": "2024-05-02T21:28:57.450847500Z"
    }
   },
   "outputs": [
    {
     "data": {
      "text/plain": "array([-5.3622725e-04,  2.3643136e-04,  5.1033497e-03,  9.0092728e-03,\n       -9.3029495e-03, -7.1168090e-03,  6.4588725e-03,  8.9729885e-03,\n       -5.0154282e-03, -3.7633716e-03,  7.3805046e-03, -1.5334714e-03,\n       -4.5366134e-03,  6.5540518e-03, -4.8601604e-03, -1.8160177e-03,\n        2.8765798e-03,  9.9187379e-04, -8.2852151e-03, -9.4488179e-03,\n        7.3117660e-03,  5.0702621e-03,  6.7576934e-03,  7.6286553e-04,\n        6.3508903e-03, -3.4053659e-03, -9.4640139e-04,  5.7685734e-03,\n       -7.5216377e-03, -3.9361035e-03, -7.5115822e-03, -9.3004224e-04,\n        9.5381187e-03, -7.3191668e-03, -2.3337686e-03, -1.9377411e-03,\n        8.0774371e-03, -5.9308959e-03,  4.5162440e-05, -4.7537340e-03,\n       -9.6035507e-03,  5.0072931e-03, -8.7595852e-03, -4.3918253e-03,\n       -3.5099984e-05, -2.9618145e-04, -7.6612402e-03,  9.6147433e-03,\n        4.9820580e-03,  9.2331432e-03, -8.1579173e-03,  4.4957981e-03,\n       -4.1370760e-03,  8.2453608e-04,  8.4986202e-03, -4.4621765e-03,\n        4.5175003e-03, -6.7869602e-03, -3.5484887e-03,  9.3985079e-03,\n       -1.5776526e-03,  3.2137157e-04, -4.1406299e-03, -7.6826881e-03,\n       -1.5080082e-03,  2.4697948e-03, -8.8802696e-04,  5.5336617e-03,\n       -2.7429771e-03,  2.2600652e-03,  5.4557943e-03,  8.3459532e-03,\n       -1.4537406e-03, -9.2081428e-03,  4.3705525e-03,  5.7178497e-04,\n        7.4419081e-03, -8.1328274e-04, -2.6384138e-03, -8.7530091e-03,\n       -8.5655687e-04,  2.8265631e-03,  5.4014288e-03,  7.0526563e-03,\n       -5.7031214e-03,  1.8588197e-03,  6.0888636e-03, -4.7980510e-03,\n       -3.1072604e-03,  6.7976294e-03,  1.6314756e-03,  1.8991709e-04,\n        3.4736372e-03,  2.1777749e-04,  9.6188262e-03,  5.0606038e-03,\n       -8.9173904e-03, -7.0415605e-03,  9.0145587e-04,  6.3925339e-03],\n      dtype=float32)"
     },
     "execution_count": 14,
     "metadata": {},
     "output_type": "execute_result"
    }
   ],
   "source": [
    "model.wv['sentence']"
   ]
  },
  {
   "cell_type": "code",
   "execution_count": 15,
   "metadata": {
    "ExecuteTime": {
     "end_time": "2024-05-02T21:28:58.381999400Z",
     "start_time": "2024-05-02T21:28:58.342Z"
    }
   },
   "outputs": [
    {
     "ename": "KeyError",
     "evalue": "\"Key 'Advanced' not present\"",
     "output_type": "error",
     "traceback": [
      "\u001B[1;31m---------------------------------------------------------------------------\u001B[0m",
      "\u001B[1;31mKeyError\u001B[0m                                  Traceback (most recent call last)",
      "Cell \u001B[1;32mIn[15], line 1\u001B[0m\n\u001B[1;32m----> 1\u001B[0m \u001B[43mmodel\u001B[49m\u001B[38;5;241;43m.\u001B[39;49m\u001B[43mwv\u001B[49m\u001B[43m[\u001B[49m\u001B[38;5;124;43m'\u001B[39;49m\u001B[38;5;124;43mAdvanced\u001B[39;49m\u001B[38;5;124;43m'\u001B[39;49m\u001B[43m]\u001B[49m\n",
      "File \u001B[1;32m~\\anaconda3\\lib\\site-packages\\gensim\\models\\keyedvectors.py:403\u001B[0m, in \u001B[0;36mKeyedVectors.__getitem__\u001B[1;34m(self, key_or_keys)\u001B[0m\n\u001B[0;32m    389\u001B[0m \u001B[38;5;124;03m\"\"\"Get vector representation of `key_or_keys`.\u001B[39;00m\n\u001B[0;32m    390\u001B[0m \n\u001B[0;32m    391\u001B[0m \u001B[38;5;124;03mParameters\u001B[39;00m\n\u001B[1;32m   (...)\u001B[0m\n\u001B[0;32m    400\u001B[0m \n\u001B[0;32m    401\u001B[0m \u001B[38;5;124;03m\"\"\"\u001B[39;00m\n\u001B[0;32m    402\u001B[0m \u001B[38;5;28;01mif\u001B[39;00m \u001B[38;5;28misinstance\u001B[39m(key_or_keys, _KEY_TYPES):\n\u001B[1;32m--> 403\u001B[0m     \u001B[38;5;28;01mreturn\u001B[39;00m \u001B[38;5;28;43mself\u001B[39;49m\u001B[38;5;241;43m.\u001B[39;49m\u001B[43mget_vector\u001B[49m\u001B[43m(\u001B[49m\u001B[43mkey_or_keys\u001B[49m\u001B[43m)\u001B[49m\n\u001B[0;32m    405\u001B[0m \u001B[38;5;28;01mreturn\u001B[39;00m vstack([\u001B[38;5;28mself\u001B[39m\u001B[38;5;241m.\u001B[39mget_vector(key) \u001B[38;5;28;01mfor\u001B[39;00m key \u001B[38;5;129;01min\u001B[39;00m key_or_keys])\n",
      "File \u001B[1;32m~\\anaconda3\\lib\\site-packages\\gensim\\models\\keyedvectors.py:446\u001B[0m, in \u001B[0;36mKeyedVectors.get_vector\u001B[1;34m(self, key, norm)\u001B[0m\n\u001B[0;32m    422\u001B[0m \u001B[38;5;28;01mdef\u001B[39;00m \u001B[38;5;21mget_vector\u001B[39m(\u001B[38;5;28mself\u001B[39m, key, norm\u001B[38;5;241m=\u001B[39m\u001B[38;5;28;01mFalse\u001B[39;00m):\n\u001B[0;32m    423\u001B[0m     \u001B[38;5;124;03m\"\"\"Get the key's vector, as a 1D numpy array.\u001B[39;00m\n\u001B[0;32m    424\u001B[0m \n\u001B[0;32m    425\u001B[0m \u001B[38;5;124;03m    Parameters\u001B[39;00m\n\u001B[1;32m   (...)\u001B[0m\n\u001B[0;32m    444\u001B[0m \n\u001B[0;32m    445\u001B[0m \u001B[38;5;124;03m    \"\"\"\u001B[39;00m\n\u001B[1;32m--> 446\u001B[0m     index \u001B[38;5;241m=\u001B[39m \u001B[38;5;28;43mself\u001B[39;49m\u001B[38;5;241;43m.\u001B[39;49m\u001B[43mget_index\u001B[49m\u001B[43m(\u001B[49m\u001B[43mkey\u001B[49m\u001B[43m)\u001B[49m\n\u001B[0;32m    447\u001B[0m     \u001B[38;5;28;01mif\u001B[39;00m norm:\n\u001B[0;32m    448\u001B[0m         \u001B[38;5;28mself\u001B[39m\u001B[38;5;241m.\u001B[39mfill_norms()\n",
      "File \u001B[1;32m~\\anaconda3\\lib\\site-packages\\gensim\\models\\keyedvectors.py:420\u001B[0m, in \u001B[0;36mKeyedVectors.get_index\u001B[1;34m(self, key, default)\u001B[0m\n\u001B[0;32m    418\u001B[0m     \u001B[38;5;28;01mreturn\u001B[39;00m default\n\u001B[0;32m    419\u001B[0m \u001B[38;5;28;01melse\u001B[39;00m:\n\u001B[1;32m--> 420\u001B[0m     \u001B[38;5;28;01mraise\u001B[39;00m \u001B[38;5;167;01mKeyError\u001B[39;00m(\u001B[38;5;124mf\u001B[39m\u001B[38;5;124m\"\u001B[39m\u001B[38;5;124mKey \u001B[39m\u001B[38;5;124m'\u001B[39m\u001B[38;5;132;01m{\u001B[39;00mkey\u001B[38;5;132;01m}\u001B[39;00m\u001B[38;5;124m'\u001B[39m\u001B[38;5;124m not present\u001B[39m\u001B[38;5;124m\"\u001B[39m)\n",
      "\u001B[1;31mKeyError\u001B[0m: \"Key 'Advanced' not present\""
     ]
    }
   ],
   "source": [
    "model.wv['Advanced']"
   ]
  },
  {
   "cell_type": "code",
   "execution_count": 16,
   "metadata": {
    "ExecuteTime": {
     "end_time": "2024-05-02T21:29:35.940915100Z",
     "start_time": "2024-05-02T21:29:35.924946100Z"
    }
   },
   "outputs": [],
   "source": [
    "def get_word(word):\n",
    "    try:\n",
    "        return model.wv[word]\n",
    "    except KeyError:\n",
    "        print(\"The word '\"+word+\"' does not appear in this model\")"
   ]
  },
  {
   "cell_type": "code",
   "execution_count": 17,
   "metadata": {
    "ExecuteTime": {
     "end_time": "2024-05-02T21:29:37.648058200Z",
     "start_time": "2024-05-02T21:29:37.628058500Z"
    }
   },
   "outputs": [
    {
     "name": "stdout",
     "output_type": "stream",
     "text": [
      "The word 'Advanced' does not appear in this model\n"
     ]
    }
   ],
   "source": [
    "get_word(\"Advanced\")"
   ]
  },
  {
   "attachments": {},
   "cell_type": "markdown",
   "metadata": {},
   "source": [
    "### Online training / Resuming training"
   ]
  },
  {
   "cell_type": "code",
   "execution_count": 18,
   "metadata": {
    "ExecuteTime": {
     "end_time": "2024-05-02T21:29:46.561015100Z",
     "start_time": "2024-05-02T21:29:46.516153100Z"
    }
   },
   "outputs": [
    {
     "data": {
      "text/plain": "array([ 7.6966463e-03,  9.1206422e-03,  1.1355019e-03, -8.3250795e-03,\n        8.4250160e-03, -3.6962307e-03,  5.7421732e-03,  4.3915794e-03,\n        9.6899448e-03, -9.2934975e-03,  9.2084054e-03, -9.2815282e-03,\n       -6.9077122e-03, -9.1021946e-03, -5.5471100e-03,  7.3688962e-03,\n        9.1644777e-03, -3.3253515e-03,  3.7230505e-03, -3.6252034e-03,\n        7.8814710e-03,  5.8668759e-03,  2.0861626e-07, -3.6286747e-03,\n       -7.2243060e-03,  4.7686161e-03,  1.4529788e-03, -2.6131857e-03,\n        7.8378068e-03, -4.0496145e-03, -9.1489861e-03, -2.2554707e-03,\n        1.2514711e-04, -6.6392552e-03, -5.4866159e-03, -8.4997769e-03,\n        9.2298733e-03,  7.4240281e-03, -2.9524326e-04,  7.3676636e-03,\n        7.9507884e-03, -7.8357337e-04,  6.6120909e-03,  3.7675237e-03,\n        5.0768424e-03,  7.2529912e-03, -4.7393893e-03, -2.1855331e-03,\n        8.7312341e-04,  4.2362059e-03,  3.3043313e-03,  5.0958274e-03,\n        4.5864857e-03, -8.4385090e-03, -3.1838394e-03, -7.2367596e-03,\n        9.6814223e-03,  5.0065992e-03,  1.7084122e-04,  4.1129780e-03,\n       -7.6561309e-03, -6.2946510e-03,  3.0763936e-03,  6.5346383e-03,\n        3.9498745e-03,  6.0180221e-03, -1.9861318e-03, -3.3451295e-03,\n        2.0717025e-04, -3.1943608e-03, -5.5169044e-03, -7.7885604e-03,\n        6.5355431e-03, -1.0903371e-03, -1.8908798e-03, -7.8047751e-03,\n        9.3375733e-03,  8.6814165e-04,  1.7696369e-03,  2.4916660e-03,\n       -7.3859929e-03,  1.6388226e-03,  2.9765631e-03, -8.5670296e-03,\n        4.9558021e-03,  2.4334085e-03,  7.4979127e-03,  5.0442982e-03,\n       -3.0317164e-03, -7.1629370e-03,  7.0962133e-03,  1.9015349e-03,\n        5.1992359e-03,  6.3811089e-03,  1.9122792e-03, -6.1276113e-03,\n       -6.2966346e-06,  8.2682976e-03, -6.0985480e-03,  9.4382809e-03],\n      dtype=float32)"
     },
     "execution_count": 18,
     "metadata": {},
     "output_type": "execute_result"
    }
   ],
   "source": [
    "more_sentences = [\n",
    "    ['Advanced', 'users', 'can', 'load', 'a', 'model',\n",
    "     'and', 'continue', 'training', 'it', 'with', 'more', 'sentences',\"ds\"],\n",
    "]\n",
    "\n",
    "model.build_vocab(more_sentences, update=True)\n",
    "model.train(more_sentences, total_examples=model.corpus_count, epochs=model.epochs)\n",
    "get_word(\"Advanced\")\n"
   ]
  },
  {
   "attachments": {},
   "cell_type": "markdown",
   "metadata": {},
   "source": [
    "### Vocabulary Length"
   ]
  },
  {
   "cell_type": "code",
   "execution_count": 19,
   "metadata": {
    "ExecuteTime": {
     "end_time": "2024-05-02T21:30:44.238010100Z",
     "start_time": "2024-05-02T21:30:44.174009200Z"
    }
   },
   "outputs": [
    {
     "data": {
      "text/plain": "26"
     },
     "execution_count": 19,
     "metadata": {},
     "output_type": "execute_result"
    }
   ],
   "source": [
    "len(model.wv)"
   ]
  },
  {
   "cell_type": "code",
   "execution_count": 20,
   "metadata": {
    "ExecuteTime": {
     "end_time": "2024-05-02T21:30:45.435482900Z",
     "start_time": "2024-05-02T21:30:45.372208200Z"
    }
   },
   "outputs": [
    {
     "data": {
      "text/plain": "['sentence',\n 'the',\n 'is',\n 'this',\n 'final',\n 'and',\n 'more',\n 'one',\n 'another',\n 'yet',\n 'second',\n 'word2vec',\n 'for',\n 'first',\n 'Advanced',\n 'users',\n 'can',\n 'load',\n 'a',\n 'model',\n 'continue',\n 'training',\n 'it',\n 'with',\n 'sentences',\n 'ds']"
     },
     "execution_count": 20,
     "metadata": {},
     "output_type": "execute_result"
    }
   ],
   "source": [
    "model.wv.index_to_key"
   ]
  },
  {
   "attachments": {},
   "cell_type": "markdown",
   "metadata": {},
   "source": [
    "### Saving and Loading "
   ]
  },
  {
   "cell_type": "code",
   "execution_count": 22,
   "metadata": {
    "ExecuteTime": {
     "end_time": "2024-05-02T21:35:32.060497400Z",
     "start_time": "2024-05-02T21:35:32.006479900Z"
    }
   },
   "outputs": [],
   "source": [
    "model.save(\"models/word2vec.model\")\n",
    "\n",
    "model = Word2Vec.load(\"models/word2vec.model\")\n"
   ]
  },
  {
   "cell_type": "code",
   "execution_count": 23,
   "metadata": {
    "ExecuteTime": {
     "end_time": "2024-05-02T21:35:54.487517900Z",
     "start_time": "2024-05-02T21:35:54.429213200Z"
    }
   },
   "outputs": [
    {
     "ename": "KeyError",
     "evalue": "\"Key 'advanced' not present\"",
     "output_type": "error",
     "traceback": [
      "\u001B[1;31m---------------------------------------------------------------------------\u001B[0m",
      "\u001B[1;31mKeyError\u001B[0m                                  Traceback (most recent call last)",
      "Cell \u001B[1;32mIn[23], line 9\u001B[0m\n\u001B[0;32m      6\u001B[0m word_vectors\u001B[38;5;241m.\u001B[39msave(\u001B[38;5;124m\"\u001B[39m\u001B[38;5;124mmodels/word2vec.wordvectors\u001B[39m\u001B[38;5;124m\"\u001B[39m)\n\u001B[0;32m      8\u001B[0m wv \u001B[38;5;241m=\u001B[39m KeyedVectors\u001B[38;5;241m.\u001B[39mload(\u001B[38;5;124m\"\u001B[39m\u001B[38;5;124mmodels/word2vec.wordvectors\u001B[39m\u001B[38;5;124m\"\u001B[39m)\n\u001B[1;32m----> 9\u001B[0m vector \u001B[38;5;241m=\u001B[39m \u001B[43mwv\u001B[49m\u001B[43m[\u001B[49m\u001B[38;5;124;43m'\u001B[39;49m\u001B[38;5;124;43madvanced\u001B[39;49m\u001B[38;5;124;43m'\u001B[39;49m\u001B[43m]\u001B[49m \n\u001B[0;32m     10\u001B[0m \u001B[38;5;28mprint\u001B[39m(vector)\n",
      "File \u001B[1;32m~\\anaconda3\\lib\\site-packages\\gensim\\models\\keyedvectors.py:403\u001B[0m, in \u001B[0;36mKeyedVectors.__getitem__\u001B[1;34m(self, key_or_keys)\u001B[0m\n\u001B[0;32m    389\u001B[0m \u001B[38;5;124;03m\"\"\"Get vector representation of `key_or_keys`.\u001B[39;00m\n\u001B[0;32m    390\u001B[0m \n\u001B[0;32m    391\u001B[0m \u001B[38;5;124;03mParameters\u001B[39;00m\n\u001B[1;32m   (...)\u001B[0m\n\u001B[0;32m    400\u001B[0m \n\u001B[0;32m    401\u001B[0m \u001B[38;5;124;03m\"\"\"\u001B[39;00m\n\u001B[0;32m    402\u001B[0m \u001B[38;5;28;01mif\u001B[39;00m \u001B[38;5;28misinstance\u001B[39m(key_or_keys, _KEY_TYPES):\n\u001B[1;32m--> 403\u001B[0m     \u001B[38;5;28;01mreturn\u001B[39;00m \u001B[38;5;28;43mself\u001B[39;49m\u001B[38;5;241;43m.\u001B[39;49m\u001B[43mget_vector\u001B[49m\u001B[43m(\u001B[49m\u001B[43mkey_or_keys\u001B[49m\u001B[43m)\u001B[49m\n\u001B[0;32m    405\u001B[0m \u001B[38;5;28;01mreturn\u001B[39;00m vstack([\u001B[38;5;28mself\u001B[39m\u001B[38;5;241m.\u001B[39mget_vector(key) \u001B[38;5;28;01mfor\u001B[39;00m key \u001B[38;5;129;01min\u001B[39;00m key_or_keys])\n",
      "File \u001B[1;32m~\\anaconda3\\lib\\site-packages\\gensim\\models\\keyedvectors.py:446\u001B[0m, in \u001B[0;36mKeyedVectors.get_vector\u001B[1;34m(self, key, norm)\u001B[0m\n\u001B[0;32m    422\u001B[0m \u001B[38;5;28;01mdef\u001B[39;00m \u001B[38;5;21mget_vector\u001B[39m(\u001B[38;5;28mself\u001B[39m, key, norm\u001B[38;5;241m=\u001B[39m\u001B[38;5;28;01mFalse\u001B[39;00m):\n\u001B[0;32m    423\u001B[0m     \u001B[38;5;124;03m\"\"\"Get the key's vector, as a 1D numpy array.\u001B[39;00m\n\u001B[0;32m    424\u001B[0m \n\u001B[0;32m    425\u001B[0m \u001B[38;5;124;03m    Parameters\u001B[39;00m\n\u001B[1;32m   (...)\u001B[0m\n\u001B[0;32m    444\u001B[0m \n\u001B[0;32m    445\u001B[0m \u001B[38;5;124;03m    \"\"\"\u001B[39;00m\n\u001B[1;32m--> 446\u001B[0m     index \u001B[38;5;241m=\u001B[39m \u001B[38;5;28;43mself\u001B[39;49m\u001B[38;5;241;43m.\u001B[39;49m\u001B[43mget_index\u001B[49m\u001B[43m(\u001B[49m\u001B[43mkey\u001B[49m\u001B[43m)\u001B[49m\n\u001B[0;32m    447\u001B[0m     \u001B[38;5;28;01mif\u001B[39;00m norm:\n\u001B[0;32m    448\u001B[0m         \u001B[38;5;28mself\u001B[39m\u001B[38;5;241m.\u001B[39mfill_norms()\n",
      "File \u001B[1;32m~\\anaconda3\\lib\\site-packages\\gensim\\models\\keyedvectors.py:420\u001B[0m, in \u001B[0;36mKeyedVectors.get_index\u001B[1;34m(self, key, default)\u001B[0m\n\u001B[0;32m    418\u001B[0m     \u001B[38;5;28;01mreturn\u001B[39;00m default\n\u001B[0;32m    419\u001B[0m \u001B[38;5;28;01melse\u001B[39;00m:\n\u001B[1;32m--> 420\u001B[0m     \u001B[38;5;28;01mraise\u001B[39;00m \u001B[38;5;167;01mKeyError\u001B[39;00m(\u001B[38;5;124mf\u001B[39m\u001B[38;5;124m\"\u001B[39m\u001B[38;5;124mKey \u001B[39m\u001B[38;5;124m'\u001B[39m\u001B[38;5;132;01m{\u001B[39;00mkey\u001B[38;5;132;01m}\u001B[39;00m\u001B[38;5;124m'\u001B[39m\u001B[38;5;124m not present\u001B[39m\u001B[38;5;124m\"\u001B[39m)\n",
      "\u001B[1;31mKeyError\u001B[0m: \"Key 'advanced' not present\""
     ]
    }
   ],
   "source": [
    "# Store just the words + their trained embeddings.\n",
    "\n",
    "from gensim.models import KeyedVectors\n",
    "\n",
    "word_vectors = model.wv\n",
    "word_vectors.save(\"models/word2vec.wordvectors\")\n",
    "\n",
    "wv = KeyedVectors.load(\"models/word2vec.wordvectors\")\n",
    "vector = wv['advanced'] \n",
    "print(vector)"
   ]
  },
  {
   "attachments": {},
   "cell_type": "markdown",
   "metadata": {},
   "source": [
    "By default, it uses pickle internally, optionally mmap‘ing the model’s internal large NumPy matrices into virtual memory directly from disk files, for inter-process memory sharing.\n",
    "\n",
    "In addition, you can load models created by the original C tool, both using its text and binary formats:"
   ]
  },
  {
   "cell_type": "code",
   "execution_count": 24,
   "metadata": {
    "ExecuteTime": {
     "end_time": "2024-05-02T21:36:07.480554900Z",
     "start_time": "2024-05-02T21:36:07.445048Z"
    }
   },
   "outputs": [],
   "source": [
    "word_vectors.save_word2vec_format('models/vectors.txt', binary=False)\n",
    "word_vectors.save_word2vec_format('models/vectors.bin', binary=True)"
   ]
  },
  {
   "cell_type": "code",
   "execution_count": 25,
   "metadata": {
    "ExecuteTime": {
     "end_time": "2024-05-02T21:36:08.883938Z",
     "start_time": "2024-05-02T21:36:08.836968100Z"
    }
   },
   "outputs": [],
   "source": [
    "model_txt = KeyedVectors.load_word2vec_format('models/vectors.txt', binary=False)\n",
    "model_bin = KeyedVectors.load_word2vec_format('models/vectors.bin', binary=True)"
   ]
  },
  {
   "attachments": {},
   "cell_type": "markdown",
   "metadata": {},
   "source": [
    "### Available Models"
   ]
  },
  {
   "cell_type": "code",
   "execution_count": 26,
   "metadata": {
    "ExecuteTime": {
     "end_time": "2024-05-02T21:36:10.746939300Z",
     "start_time": "2024-05-02T21:36:10.512941200Z"
    }
   },
   "outputs": [
    {
     "data": {
      "text/plain": "['fasttext-wiki-news-subwords-300',\n 'conceptnet-numberbatch-17-06-300',\n 'word2vec-ruscorpora-300',\n 'word2vec-google-news-300',\n 'glove-wiki-gigaword-50',\n 'glove-wiki-gigaword-100',\n 'glove-wiki-gigaword-200',\n 'glove-wiki-gigaword-300',\n 'glove-twitter-25',\n 'glove-twitter-50',\n 'glove-twitter-100',\n 'glove-twitter-200',\n '__testing_word2vec-matrix-synopsis']"
     },
     "execution_count": 26,
     "metadata": {},
     "output_type": "execute_result"
    }
   ],
   "source": [
    "import gensim.downloader\n",
    "# Show all available models in gensim-data\n",
    "list(gensim.downloader.info()['models'].keys())"
   ]
  },
  {
   "cell_type": "code",
   "execution_count": 27,
   "metadata": {
    "ExecuteTime": {
     "end_time": "2024-05-02T21:36:45.305798500Z",
     "start_time": "2024-05-02T21:36:11.751154700Z"
    }
   },
   "outputs": [],
   "source": [
    "# Download the \"glove-twitter-25\" embeddings\n",
    "model_wv = gensim.downloader.load('glove-twitter-25')\n",
    "#model_wv = gensim.downloader.load('word2vec-google-news-300')\n"
   ]
  },
  {
   "attachments": {},
   "cell_type": "markdown",
   "metadata": {},
   "source": [
    "### Similarity"
   ]
  },
  {
   "cell_type": "code",
   "execution_count": 28,
   "metadata": {
    "ExecuteTime": {
     "end_time": "2024-05-02T21:37:01.070713900Z",
     "start_time": "2024-05-02T21:37:00.886698Z"
    }
   },
   "outputs": [
    {
     "data": {
      "text/plain": "[('facebook', 0.948005199432373),\n ('tweet', 0.9403423070907593),\n ('fb', 0.9342359900474548),\n ('instagram', 0.9104822874069214),\n ('chat', 0.8964964747428894),\n ('hashtag', 0.8885936737060547),\n ('tweets', 0.8878158330917358),\n ('tl', 0.8778460621833801),\n ('link', 0.877821147441864),\n ('internet', 0.8753897547721863)]"
     },
     "execution_count": 28,
     "metadata": {},
     "output_type": "execute_result"
    }
   ],
   "source": [
    "model_wv.most_similar('twitter')"
   ]
  },
  {
   "cell_type": "code",
   "execution_count": 29,
   "metadata": {
    "ExecuteTime": {
     "end_time": "2024-05-02T21:37:02.411605100Z",
     "start_time": "2024-05-02T21:37:02.362607Z"
    }
   },
   "outputs": [
    {
     "data": {
      "text/plain": "[('romney', 0.9566565155982971),\n ('president', 0.9400959610939026),\n ('barack', 0.9376798272132874),\n ('clinton', 0.928589940071106),\n ('says', 0.9087842702865601),\n ('bill', 0.9080009460449219),\n ('claims', 0.9074634313583374),\n ('hillary', 0.888924777507782),\n ('talks', 0.8864543437957764),\n ('government', 0.8833804130554199)]"
     },
     "execution_count": 29,
     "metadata": {},
     "output_type": "execute_result"
    }
   ],
   "source": [
    "model_wv.most_similar('obama')"
   ]
  },
  {
   "cell_type": "code",
   "execution_count": 30,
   "metadata": {
    "ExecuteTime": {
     "end_time": "2024-05-02T21:37:03.414805600Z",
     "start_time": "2024-05-02T21:37:03.394807300Z"
    }
   },
   "outputs": [
    {
     "name": "stdout",
     "output_type": "stream",
     "text": [
      "0.81980556\n",
      "0.5063875\n",
      "0.66699666\n"
     ]
    }
   ],
   "source": [
    "print(model_wv.similarity(\"olive\",\"tree\"))\n",
    "print(model_wv.similarity(\"olive\",\"animal\"))\n",
    "print(model_wv.similarity(\"olive\",\"house\"))\n"
   ]
  },
  {
   "cell_type": "code",
   "execution_count": 31,
   "metadata": {
    "ExecuteTime": {
     "end_time": "2024-05-02T21:37:04.833493900Z",
     "start_time": "2024-05-02T21:37:04.780489Z"
    }
   },
   "outputs": [
    {
     "name": "stdout",
     "output_type": "stream",
     "text": [
      "car \t minivan \t 0.50\n",
      "car \t bicycle \t 0.70\n",
      "car \t airplane \t 0.73\n",
      "car \t cereal \t 0.54\n",
      "car \t communism \t 0.11\n"
     ]
    }
   ],
   "source": [
    "pairs = [\n",
    "    ('car', 'minivan'),   # a minivan is a kind of car\n",
    "    ('car', 'bicycle'),   # still a wheeled vehicle\n",
    "    ('car', 'airplane'),  # ok, no wheels, but still a vehicle\n",
    "    ('car', 'cereal'),    # ... and so on\n",
    "    ('car', 'communism'),\n",
    "]\n",
    "for w1, w2 in pairs:\n",
    "    print('%s \\t %s \\t% .2f' % (w1, w2, model_wv.similarity(w1, w2)))"
   ]
  },
  {
   "attachments": {},
   "cell_type": "markdown",
   "metadata": {},
   "source": [
    "### Intruso - Which one is the odd one out in this list?"
   ]
  },
  {
   "cell_type": "code",
   "execution_count": 32,
   "metadata": {
    "ExecuteTime": {
     "end_time": "2024-05-02T21:37:12.967039100Z",
     "start_time": "2024-05-02T21:37:12.950041100Z"
    }
   },
   "outputs": [
    {
     "data": {
      "text/plain": "'france'"
     },
     "execution_count": 32,
     "metadata": {},
     "output_type": "execute_result"
    }
   ],
   "source": [
    "model_wv.doesnt_match([\"cat\",\"dog\",\"france\"])"
   ]
  },
  {
   "cell_type": "code",
   "execution_count": 33,
   "metadata": {
    "ExecuteTime": {
     "end_time": "2024-05-02T21:37:14.220230600Z",
     "start_time": "2024-05-02T21:37:14.142232200Z"
    }
   },
   "outputs": [
    {
     "ename": "ValueError",
     "evalue": "cannot select a word from an empty list",
     "output_type": "error",
     "traceback": [
      "\u001B[1;31m---------------------------------------------------------------------------\u001B[0m",
      "\u001B[1;31mValueError\u001B[0m                                Traceback (most recent call last)",
      "Cell \u001B[1;32mIn[33], line 1\u001B[0m\n\u001B[1;32m----> 1\u001B[0m \u001B[43mmodel_wv\u001B[49m\u001B[38;5;241;43m.\u001B[39;49m\u001B[43mdoesnt_match\u001B[49m\u001B[43m(\u001B[49m\u001B[43m[\u001B[49m\u001B[38;5;124;43m\"\u001B[39;49m\u001B[38;5;124;43mPortugal\u001B[39;49m\u001B[38;5;124;43m\"\u001B[39;49m\u001B[43m,\u001B[49m\u001B[38;5;124;43m\"\u001B[39;49m\u001B[38;5;124;43mFrance\u001B[39;49m\u001B[38;5;124;43m\"\u001B[39;49m\u001B[43m,\u001B[49m\u001B[38;5;124;43m\"\u001B[39;49m\u001B[38;5;124;43mRussia\u001B[39;49m\u001B[38;5;124;43m\"\u001B[39;49m\u001B[43m]\u001B[49m\u001B[43m)\u001B[49m\n",
      "File \u001B[1;32m~\\anaconda3\\lib\\site-packages\\gensim\\models\\keyedvectors.py:1140\u001B[0m, in \u001B[0;36mKeyedVectors.doesnt_match\u001B[1;34m(self, words)\u001B[0m\n\u001B[0;32m   1126\u001B[0m \u001B[38;5;28;01mdef\u001B[39;00m \u001B[38;5;21mdoesnt_match\u001B[39m(\u001B[38;5;28mself\u001B[39m, words):\n\u001B[0;32m   1127\u001B[0m     \u001B[38;5;124;03m\"\"\"Which key from the given list doesn't go with the others?\u001B[39;00m\n\u001B[0;32m   1128\u001B[0m \n\u001B[0;32m   1129\u001B[0m \u001B[38;5;124;03m    Parameters\u001B[39;00m\n\u001B[1;32m   (...)\u001B[0m\n\u001B[0;32m   1138\u001B[0m \n\u001B[0;32m   1139\u001B[0m \u001B[38;5;124;03m    \"\"\"\u001B[39;00m\n\u001B[1;32m-> 1140\u001B[0m     \u001B[38;5;28;01mreturn\u001B[39;00m \u001B[38;5;28;43mself\u001B[39;49m\u001B[38;5;241;43m.\u001B[39;49m\u001B[43mrank_by_centrality\u001B[49m\u001B[43m(\u001B[49m\u001B[43mwords\u001B[49m\u001B[43m)\u001B[49m[\u001B[38;5;241m-\u001B[39m\u001B[38;5;241m1\u001B[39m][\u001B[38;5;241m1\u001B[39m]\n",
      "File \u001B[1;32m~\\anaconda3\\lib\\site-packages\\gensim\\models\\keyedvectors.py:1120\u001B[0m, in \u001B[0;36mKeyedVectors.rank_by_centrality\u001B[1;34m(self, words, use_norm)\u001B[0m\n\u001B[0;32m   1118\u001B[0m     logger\u001B[38;5;241m.\u001B[39mwarning(\u001B[38;5;124m\"\u001B[39m\u001B[38;5;124mvectors for words \u001B[39m\u001B[38;5;132;01m%s\u001B[39;00m\u001B[38;5;124m are not present in the model, ignoring these words\u001B[39m\u001B[38;5;124m\"\u001B[39m, ignored_words)\n\u001B[0;32m   1119\u001B[0m \u001B[38;5;28;01mif\u001B[39;00m \u001B[38;5;129;01mnot\u001B[39;00m used_words:\n\u001B[1;32m-> 1120\u001B[0m     \u001B[38;5;28;01mraise\u001B[39;00m \u001B[38;5;167;01mValueError\u001B[39;00m(\u001B[38;5;124m\"\u001B[39m\u001B[38;5;124mcannot select a word from an empty list\u001B[39m\u001B[38;5;124m\"\u001B[39m)\n\u001B[0;32m   1121\u001B[0m vectors \u001B[38;5;241m=\u001B[39m vstack([\u001B[38;5;28mself\u001B[39m\u001B[38;5;241m.\u001B[39mget_vector(word, norm\u001B[38;5;241m=\u001B[39muse_norm) \u001B[38;5;28;01mfor\u001B[39;00m word \u001B[38;5;129;01min\u001B[39;00m used_words])\u001B[38;5;241m.\u001B[39mastype(REAL)\n\u001B[0;32m   1122\u001B[0m mean \u001B[38;5;241m=\u001B[39m \u001B[38;5;28mself\u001B[39m\u001B[38;5;241m.\u001B[39mget_mean_vector(vectors, post_normalize\u001B[38;5;241m=\u001B[39m\u001B[38;5;28;01mTrue\u001B[39;00m)\n",
      "\u001B[1;31mValueError\u001B[0m: cannot select a word from an empty list"
     ]
    }
   ],
   "source": [
    "model_wv.doesnt_match([\"Portugal\",\"France\",\"Russia\"])"
   ]
  },
  {
   "cell_type": "code",
   "execution_count": 34,
   "metadata": {
    "ExecuteTime": {
     "end_time": "2024-05-02T21:37:37.673784200Z",
     "start_time": "2024-05-02T21:37:37.588778600Z"
    }
   },
   "outputs": [
    {
     "ename": "ValueError",
     "evalue": "cannot select a word from an empty list",
     "output_type": "error",
     "traceback": [
      "\u001B[1;31m---------------------------------------------------------------------------\u001B[0m",
      "\u001B[1;31mValueError\u001B[0m                                Traceback (most recent call last)",
      "Cell \u001B[1;32mIn[34], line 1\u001B[0m\n\u001B[1;32m----> 1\u001B[0m \u001B[43mmodel_wv\u001B[49m\u001B[38;5;241;43m.\u001B[39;49m\u001B[43mdoesnt_match\u001B[49m\u001B[43m(\u001B[49m\u001B[43m[\u001B[49m\u001B[38;5;124;43m\"\u001B[39;49m\u001B[38;5;124;43mPortugal\u001B[39;49m\u001B[38;5;124;43m\"\u001B[39;49m\u001B[43m,\u001B[49m\u001B[38;5;124;43m\"\u001B[39;49m\u001B[38;5;124;43mFrance\u001B[39;49m\u001B[38;5;124;43m\"\u001B[39;49m\u001B[43m,\u001B[49m\u001B[38;5;124;43m\"\u001B[39;49m\u001B[38;5;124;43mRussia\u001B[39;49m\u001B[38;5;124;43m\"\u001B[39;49m\u001B[43m,\u001B[49m\u001B[38;5;124;43m\"\u001B[39;49m\u001B[38;5;124;43mU.K\u001B[39;49m\u001B[38;5;124;43m\"\u001B[39;49m\u001B[43m,\u001B[49m\u001B[43m \u001B[49m\u001B[38;5;124;43m\"\u001B[39;49m\u001B[38;5;124;43mGermany\u001B[39;49m\u001B[38;5;124;43m\"\u001B[39;49m\u001B[43m,\u001B[49m\u001B[43m \u001B[49m\u001B[38;5;124;43m\"\u001B[39;49m\u001B[38;5;124;43mItaly\u001B[39;49m\u001B[38;5;124;43m\"\u001B[39;49m\u001B[43m]\u001B[49m\u001B[43m)\u001B[49m\n",
      "File \u001B[1;32m~\\anaconda3\\lib\\site-packages\\gensim\\models\\keyedvectors.py:1140\u001B[0m, in \u001B[0;36mKeyedVectors.doesnt_match\u001B[1;34m(self, words)\u001B[0m\n\u001B[0;32m   1126\u001B[0m \u001B[38;5;28;01mdef\u001B[39;00m \u001B[38;5;21mdoesnt_match\u001B[39m(\u001B[38;5;28mself\u001B[39m, words):\n\u001B[0;32m   1127\u001B[0m     \u001B[38;5;124;03m\"\"\"Which key from the given list doesn't go with the others?\u001B[39;00m\n\u001B[0;32m   1128\u001B[0m \n\u001B[0;32m   1129\u001B[0m \u001B[38;5;124;03m    Parameters\u001B[39;00m\n\u001B[1;32m   (...)\u001B[0m\n\u001B[0;32m   1138\u001B[0m \n\u001B[0;32m   1139\u001B[0m \u001B[38;5;124;03m    \"\"\"\u001B[39;00m\n\u001B[1;32m-> 1140\u001B[0m     \u001B[38;5;28;01mreturn\u001B[39;00m \u001B[38;5;28;43mself\u001B[39;49m\u001B[38;5;241;43m.\u001B[39;49m\u001B[43mrank_by_centrality\u001B[49m\u001B[43m(\u001B[49m\u001B[43mwords\u001B[49m\u001B[43m)\u001B[49m[\u001B[38;5;241m-\u001B[39m\u001B[38;5;241m1\u001B[39m][\u001B[38;5;241m1\u001B[39m]\n",
      "File \u001B[1;32m~\\anaconda3\\lib\\site-packages\\gensim\\models\\keyedvectors.py:1120\u001B[0m, in \u001B[0;36mKeyedVectors.rank_by_centrality\u001B[1;34m(self, words, use_norm)\u001B[0m\n\u001B[0;32m   1118\u001B[0m     logger\u001B[38;5;241m.\u001B[39mwarning(\u001B[38;5;124m\"\u001B[39m\u001B[38;5;124mvectors for words \u001B[39m\u001B[38;5;132;01m%s\u001B[39;00m\u001B[38;5;124m are not present in the model, ignoring these words\u001B[39m\u001B[38;5;124m\"\u001B[39m, ignored_words)\n\u001B[0;32m   1119\u001B[0m \u001B[38;5;28;01mif\u001B[39;00m \u001B[38;5;129;01mnot\u001B[39;00m used_words:\n\u001B[1;32m-> 1120\u001B[0m     \u001B[38;5;28;01mraise\u001B[39;00m \u001B[38;5;167;01mValueError\u001B[39;00m(\u001B[38;5;124m\"\u001B[39m\u001B[38;5;124mcannot select a word from an empty list\u001B[39m\u001B[38;5;124m\"\u001B[39m)\n\u001B[0;32m   1121\u001B[0m vectors \u001B[38;5;241m=\u001B[39m vstack([\u001B[38;5;28mself\u001B[39m\u001B[38;5;241m.\u001B[39mget_vector(word, norm\u001B[38;5;241m=\u001B[39muse_norm) \u001B[38;5;28;01mfor\u001B[39;00m word \u001B[38;5;129;01min\u001B[39;00m used_words])\u001B[38;5;241m.\u001B[39mastype(REAL)\n\u001B[0;32m   1122\u001B[0m mean \u001B[38;5;241m=\u001B[39m \u001B[38;5;28mself\u001B[39m\u001B[38;5;241m.\u001B[39mget_mean_vector(vectors, post_normalize\u001B[38;5;241m=\u001B[39m\u001B[38;5;28;01mTrue\u001B[39;00m)\n",
      "\u001B[1;31mValueError\u001B[0m: cannot select a word from an empty list"
     ]
    }
   ],
   "source": [
    "model_wv.doesnt_match([\"Portugal\",\"France\",\"Russia\",\"U.K\", \"Germany\", \"Italy\"])"
   ]
  },
  {
   "attachments": {},
   "cell_type": "markdown",
   "metadata": {},
   "source": [
    "### Analogies"
   ]
  },
  {
   "cell_type": "markdown",
   "metadata": {},
   "source": [
    "<img src=\"analogia.png\">"
   ]
  },
  {
   "cell_type": "markdown",
   "metadata": {},
   "source": [
    "#poutine comida tipica do canada"
   ]
  },
  {
   "cell_type": "code",
   "execution_count": 35,
   "metadata": {
    "ExecuteTime": {
     "end_time": "2024-05-02T21:37:46.081215400Z",
     "start_time": "2024-05-02T21:37:46.035196Z"
    }
   },
   "outputs": [
    {
     "name": "stdout",
     "output_type": "stream",
     "text": [
      "('meets', 0.8841923475265503)\n"
     ]
    }
   ],
   "source": [
    "result = model_wv.most_similar(positive=['woman', 'king'], negative=['man'])\n",
    "print(result[0])"
   ]
  },
  {
   "cell_type": "code",
   "execution_count": 36,
   "metadata": {
    "ExecuteTime": {
     "end_time": "2024-05-02T21:37:56.007274800Z",
     "start_time": "2024-05-02T21:37:55.961277400Z"
    }
   },
   "outputs": [
    {
     "name": "stdout",
     "output_type": "stream",
     "text": [
      "('sauce', 0.8373295068740845)\n"
     ]
    }
   ],
   "source": [
    "result = model_wv.most_similar(positive=['hamburger', 'canada'], negative=['u.s'])\n",
    "print(result[0])"
   ]
  },
  {
   "cell_type": "code",
   "execution_count": 37,
   "metadata": {
    "ExecuteTime": {
     "end_time": "2024-05-02T21:38:01.031874800Z",
     "start_time": "2024-05-02T21:38:00.992876800Z"
    }
   },
   "outputs": [
    {
     "data": {
      "text/plain": "[('benfica', 0.8906856179237366),\n ('inter', 0.8823168277740479),\n ('barcelona', 0.8823107481002808),\n ('milan', 0.8798957467079163),\n ('bayern', 0.8668391108512878),\n ('vs', 0.8622055649757385),\n ('spain', 0.8606054186820984),\n ('juventus', 0.8564386367797852),\n ('porto', 0.8555518388748169),\n ('manchester', 0.8532636165618896),\n ('atletico', 0.8528964519500732),\n ('dortmund', 0.8508116006851196),\n ('munich', 0.8483926057815552),\n ('malaga', 0.843699038028717),\n ('borussia', 0.8435484766960144),\n ('champions', 0.8435211181640625),\n ('chelsea', 0.8393116593360901),\n ('tottenham', 0.8385051488876343),\n ('barça', 0.8359622359275818),\n ('psg', 0.8345885276794434),\n ('newcastle', 0.8327121734619141),\n ('derby', 0.828357458114624),\n ('europa', 0.8278909921646118),\n ('uruguay', 0.8266362547874451),\n ('wembley', 0.8265666961669922),\n ('everton', 0.8251709342002869),\n ('nadal', 0.8236017823219299),\n ('zenit', 0.823206901550293),\n ('liverpool', 0.8230037689208984),\n ('madrid', 0.8221689462661743),\n ('celtic', 0.8215534090995789),\n ('eurovision', 0.8204659819602966),\n ('napoli', 0.8183072805404663),\n ('united', 0.8173774480819702),\n ('barca', 0.8172615170478821),\n ('italy', 0.8157469630241394),\n ('juve', 0.8139892220497131),\n ('mallorca', 0.812542736530304),\n ('cfc', 0.8123467564582825),\n ('federer', 0.8118732571601868),\n ('denmark', 0.8094380497932434),\n ('lazio', 0.8085185885429382),\n ('wigan', 0.8079662919044495),\n ('ucl', 0.8041728138923645),\n ('arsenal', 0.8039525747299194),\n ('serbia', 0.8039078712463379),\n ('roma', 0.8038485646247864),\n ('siena', 0.8030058145523071),\n ('sunderland', 0.8024166822433472),\n ('villa', 0.8021950125694275)]"
     },
     "execution_count": 37,
     "metadata": {},
     "output_type": "execute_result"
    }
   ],
   "source": [
    "model_wv.most_similar(\"portugal\", topn=50)"
   ]
  },
  {
   "cell_type": "code",
   "execution_count": 38,
   "metadata": {
    "ExecuteTime": {
     "end_time": "2024-05-02T21:38:16.807905300Z",
     "start_time": "2024-05-02T21:38:16.776901500Z"
    }
   },
   "outputs": [],
   "source": [
    "def analogy(x1, y1, x2):\n",
    "    result = model_wv.most_similar(positive=[x2, y1], negative=[x1])\n",
    "    return result[0][0]"
   ]
  },
  {
   "cell_type": "code",
   "execution_count": 39,
   "metadata": {
    "ExecuteTime": {
     "end_time": "2024-05-02T21:38:17.896735100Z",
     "start_time": "2024-05-02T21:38:17.833740500Z"
    }
   },
   "outputs": [
    {
     "data": {
      "text/plain": "'wonderful'"
     },
     "execution_count": 39,
     "metadata": {},
     "output_type": "execute_result"
    }
   ],
   "source": [
    "analogy('bad', 'good', 'fantastic')"
   ]
  },
  {
   "cell_type": "code",
   "execution_count": 40,
   "metadata": {
    "ExecuteTime": {
     "end_time": "2024-05-02T21:38:20.350569900Z",
     "start_time": "2024-05-02T21:38:20.302571200Z"
    }
   },
   "outputs": [
    {
     "data": {
      "text/plain": "'brilliant'"
     },
     "execution_count": 40,
     "metadata": {},
     "output_type": "execute_result"
    }
   ],
   "source": [
    "analogy('good', 'fantastic', 'bad')"
   ]
  },
  {
   "cell_type": "code",
   "execution_count": 41,
   "metadata": {
    "ExecuteTime": {
     "end_time": "2024-05-02T21:38:21.413953300Z",
     "start_time": "2024-05-02T21:38:21.352955700Z"
    }
   },
   "outputs": [
    {
     "data": {
      "text/plain": "'korean'"
     },
     "execution_count": 41,
     "metadata": {},
     "output_type": "execute_result"
    }
   ],
   "source": [
    "analogy('france', 'japanese', 'japan')"
   ]
  },
  {
   "cell_type": "code",
   "execution_count": 42,
   "metadata": {
    "ExecuteTime": {
     "end_time": "2024-05-02T21:38:22.912920900Z",
     "start_time": "2024-05-02T21:38:22.864929300Z"
    }
   },
   "outputs": [
    {
     "data": {
      "text/plain": "'tokyo'"
     },
     "execution_count": 42,
     "metadata": {},
     "output_type": "execute_result"
    }
   ],
   "source": [
    "analogy('german', 'japanese', 'japan')"
   ]
  },
  {
   "cell_type": "code",
   "execution_count": 43,
   "metadata": {
    "ExecuteTime": {
     "end_time": "2024-05-02T21:38:24.337563200Z",
     "start_time": "2024-05-02T21:38:24.281566800Z"
    }
   },
   "outputs": [
    {
     "data": {
      "text/plain": "'korean'"
     },
     "execution_count": 43,
     "metadata": {},
     "output_type": "execute_result"
    }
   ],
   "source": [
    "analogy('canada', 'japanese', 'japan')"
   ]
  },
  {
   "cell_type": "code",
   "execution_count": 44,
   "metadata": {
    "ExecuteTime": {
     "end_time": "2024-05-02T21:38:25.218830700Z",
     "start_time": "2024-05-02T21:38:25.145833Z"
    }
   },
   "outputs": [
    {
     "data": {
      "text/plain": "'هوبا'"
     },
     "execution_count": 44,
     "metadata": {},
     "output_type": "execute_result"
    }
   ],
   "source": [
    "analogy('cat', 'oink', 'pig')"
   ]
  },
  {
   "cell_type": "code",
   "execution_count": 45,
   "metadata": {
    "ExecuteTime": {
     "end_time": "2024-05-02T21:38:26.034905700Z",
     "start_time": "2024-05-02T21:38:25.946880800Z"
    }
   },
   "outputs": [
    {
     "ename": "KeyError",
     "evalue": "\"Key 'miaowing' not present in vocabulary\"",
     "output_type": "error",
     "traceback": [
      "\u001B[1;31m---------------------------------------------------------------------------\u001B[0m",
      "\u001B[1;31mKeyError\u001B[0m                                  Traceback (most recent call last)",
      "Cell \u001B[1;32mIn[45], line 1\u001B[0m\n\u001B[1;32m----> 1\u001B[0m \u001B[43manalogy\u001B[49m\u001B[43m(\u001B[49m\u001B[38;5;124;43m'\u001B[39;49m\u001B[38;5;124;43mdog\u001B[39;49m\u001B[38;5;124;43m'\u001B[39;49m\u001B[43m,\u001B[49m\u001B[43m \u001B[49m\u001B[38;5;124;43m'\u001B[39;49m\u001B[38;5;124;43mmiaowing\u001B[39;49m\u001B[38;5;124;43m'\u001B[39;49m\u001B[43m,\u001B[49m\u001B[43m \u001B[49m\u001B[38;5;124;43m'\u001B[39;49m\u001B[38;5;124;43mcat\u001B[39;49m\u001B[38;5;124;43m'\u001B[39;49m\u001B[43m)\u001B[49m\n",
      "Cell \u001B[1;32mIn[38], line 2\u001B[0m, in \u001B[0;36manalogy\u001B[1;34m(x1, y1, x2)\u001B[0m\n\u001B[0;32m      1\u001B[0m \u001B[38;5;28;01mdef\u001B[39;00m \u001B[38;5;21manalogy\u001B[39m(x1, y1, x2):\n\u001B[1;32m----> 2\u001B[0m     result \u001B[38;5;241m=\u001B[39m \u001B[43mmodel_wv\u001B[49m\u001B[38;5;241;43m.\u001B[39;49m\u001B[43mmost_similar\u001B[49m\u001B[43m(\u001B[49m\u001B[43mpositive\u001B[49m\u001B[38;5;241;43m=\u001B[39;49m\u001B[43m[\u001B[49m\u001B[43mx2\u001B[49m\u001B[43m,\u001B[49m\u001B[43m \u001B[49m\u001B[43my1\u001B[49m\u001B[43m]\u001B[49m\u001B[43m,\u001B[49m\u001B[43m \u001B[49m\u001B[43mnegative\u001B[49m\u001B[38;5;241;43m=\u001B[39;49m\u001B[43m[\u001B[49m\u001B[43mx1\u001B[49m\u001B[43m]\u001B[49m\u001B[43m)\u001B[49m\n\u001B[0;32m      3\u001B[0m     \u001B[38;5;28;01mreturn\u001B[39;00m result[\u001B[38;5;241m0\u001B[39m][\u001B[38;5;241m0\u001B[39m]\n",
      "File \u001B[1;32m~\\anaconda3\\lib\\site-packages\\gensim\\models\\keyedvectors.py:841\u001B[0m, in \u001B[0;36mKeyedVectors.most_similar\u001B[1;34m(self, positive, negative, topn, clip_start, clip_end, restrict_vocab, indexer)\u001B[0m\n\u001B[0;32m    838\u001B[0m         weight[idx] \u001B[38;5;241m=\u001B[39m item[\u001B[38;5;241m1\u001B[39m]\n\u001B[0;32m    840\u001B[0m \u001B[38;5;66;03m# compute the weighted average of all keys\u001B[39;00m\n\u001B[1;32m--> 841\u001B[0m mean \u001B[38;5;241m=\u001B[39m \u001B[38;5;28;43mself\u001B[39;49m\u001B[38;5;241;43m.\u001B[39;49m\u001B[43mget_mean_vector\u001B[49m\u001B[43m(\u001B[49m\u001B[43mkeys\u001B[49m\u001B[43m,\u001B[49m\u001B[43m \u001B[49m\u001B[43mweight\u001B[49m\u001B[43m,\u001B[49m\u001B[43m \u001B[49m\u001B[43mpre_normalize\u001B[49m\u001B[38;5;241;43m=\u001B[39;49m\u001B[38;5;28;43;01mTrue\u001B[39;49;00m\u001B[43m,\u001B[49m\u001B[43m \u001B[49m\u001B[43mpost_normalize\u001B[49m\u001B[38;5;241;43m=\u001B[39;49m\u001B[38;5;28;43;01mTrue\u001B[39;49;00m\u001B[43m,\u001B[49m\u001B[43m \u001B[49m\u001B[43mignore_missing\u001B[49m\u001B[38;5;241;43m=\u001B[39;49m\u001B[38;5;28;43;01mFalse\u001B[39;49;00m\u001B[43m)\u001B[49m\n\u001B[0;32m    842\u001B[0m all_keys \u001B[38;5;241m=\u001B[39m [\n\u001B[0;32m    843\u001B[0m     \u001B[38;5;28mself\u001B[39m\u001B[38;5;241m.\u001B[39mget_index(key) \u001B[38;5;28;01mfor\u001B[39;00m key \u001B[38;5;129;01min\u001B[39;00m keys \u001B[38;5;28;01mif\u001B[39;00m \u001B[38;5;28misinstance\u001B[39m(key, _KEY_TYPES) \u001B[38;5;129;01mand\u001B[39;00m \u001B[38;5;28mself\u001B[39m\u001B[38;5;241m.\u001B[39mhas_index_for(key)\n\u001B[0;32m    844\u001B[0m ]\n\u001B[0;32m    846\u001B[0m \u001B[38;5;28;01mif\u001B[39;00m indexer \u001B[38;5;129;01mis\u001B[39;00m \u001B[38;5;129;01mnot\u001B[39;00m \u001B[38;5;28;01mNone\u001B[39;00m \u001B[38;5;129;01mand\u001B[39;00m \u001B[38;5;28misinstance\u001B[39m(topn, \u001B[38;5;28mint\u001B[39m):\n",
      "File \u001B[1;32m~\\anaconda3\\lib\\site-packages\\gensim\\models\\keyedvectors.py:518\u001B[0m, in \u001B[0;36mKeyedVectors.get_mean_vector\u001B[1;34m(self, keys, weights, pre_normalize, post_normalize, ignore_missing)\u001B[0m\n\u001B[0;32m    516\u001B[0m         total_weight \u001B[38;5;241m+\u001B[39m\u001B[38;5;241m=\u001B[39m \u001B[38;5;28mabs\u001B[39m(weights[idx])\n\u001B[0;32m    517\u001B[0m     \u001B[38;5;28;01melif\u001B[39;00m \u001B[38;5;129;01mnot\u001B[39;00m ignore_missing:\n\u001B[1;32m--> 518\u001B[0m         \u001B[38;5;28;01mraise\u001B[39;00m \u001B[38;5;167;01mKeyError\u001B[39;00m(\u001B[38;5;124mf\u001B[39m\u001B[38;5;124m\"\u001B[39m\u001B[38;5;124mKey \u001B[39m\u001B[38;5;124m'\u001B[39m\u001B[38;5;132;01m{\u001B[39;00mkey\u001B[38;5;132;01m}\u001B[39;00m\u001B[38;5;124m'\u001B[39m\u001B[38;5;124m not present in vocabulary\u001B[39m\u001B[38;5;124m\"\u001B[39m)\n\u001B[0;32m    520\u001B[0m \u001B[38;5;28;01mif\u001B[39;00m total_weight \u001B[38;5;241m>\u001B[39m \u001B[38;5;241m0\u001B[39m:\n\u001B[0;32m    521\u001B[0m     mean \u001B[38;5;241m=\u001B[39m mean \u001B[38;5;241m/\u001B[39m total_weight\n",
      "\u001B[1;31mKeyError\u001B[0m: \"Key 'miaowing' not present in vocabulary\""
     ]
    }
   ],
   "source": [
    "analogy('dog', 'miaowing', 'cat')"
   ]
  },
  {
   "cell_type": "code",
   "execution_count": 46,
   "metadata": {
    "ExecuteTime": {
     "end_time": "2024-05-02T21:38:35.638518500Z",
     "start_time": "2024-05-02T21:38:35.593516100Z"
    }
   },
   "outputs": [
    {
     "data": {
      "text/plain": "['hoje', 'está', 'um', 'dia', 'de', 'sol']"
     },
     "execution_count": 46,
     "metadata": {},
     "output_type": "execute_result"
    }
   ],
   "source": [
    "from gensim.utils import tokenize\n",
    "\n",
    "list(tokenize(\"Hoje está um dia de sol!\", lower=True))"
   ]
  },
  {
   "attachments": {},
   "cell_type": "markdown",
   "metadata": {},
   "source": [
    "### Visualisation"
   ]
  },
  {
   "cell_type": "code",
   "execution_count": 47,
   "metadata": {
    "ExecuteTime": {
     "end_time": "2024-05-02T21:38:39.670224600Z",
     "start_time": "2024-05-02T21:38:38.156756800Z"
    }
   },
   "outputs": [],
   "source": [
    "import numpy as np\n",
    "import matplotlib.pyplot as plt\n",
    "from sklearn.decomposition import PCA\n",
    "\n",
    "def display_pca_scatterplot(model, words=None):\n",
    "        \n",
    "    word_vectors = np.array([model[w] for w in words])\n",
    "\n",
    "    twodim = PCA().fit_transform(word_vectors)[:,:2]\n",
    "    \n",
    "    plt.figure(figsize=(6,6))\n",
    "    plt.scatter(twodim[:,0], twodim[:,1], edgecolors='k', c='r')\n",
    "    for word, (x,y) in zip(words, twodim):\n",
    "        plt.text(x+0.05, y+0.05, word)"
   ]
  },
  {
   "cell_type": "code",
   "execution_count": 48,
   "metadata": {
    "ExecuteTime": {
     "end_time": "2024-05-02T21:38:40.666967100Z",
     "start_time": "2024-05-02T21:38:40.342441700Z"
    }
   },
   "outputs": [
    {
     "data": {
      "text/plain": "<Figure size 600x600 with 1 Axes>",
      "image/png": "[encoded data removed]"
     },
     "metadata": {},
     "output_type": "display_data"
    }
   ],
   "source": [
    "words2 =  ['france', 'germany', 'hungary', 'australia', 'fiji', 'china',\n",
    "                         'homework', 'assignment', 'problem', 'exam', 'test', 'class',\n",
    "                         'school', 'college', 'university', 'institute']\n",
    "display_pca_scatterplot(model_wv,words2)"
   ]
  },
  {
   "cell_type": "code",
   "execution_count": 49,
   "metadata": {
    "ExecuteTime": {
     "end_time": "2024-05-02T21:38:42.789867600Z",
     "start_time": "2024-05-02T21:38:42.452674400Z"
    }
   },
   "outputs": [
    {
     "data": {
      "text/plain": "<Figure size 600x600 with 1 Axes>",
      "image/png": "[encoded data removed]"
     },
     "metadata": {},
     "output_type": "display_data"
    }
   ],
   "source": [
    "words =  ['coffee', 'tea', 'beer', 'wine', 'brandy', 'rum', 'champagne', 'water',\n",
    "                         'spaghetti', 'borscht', 'hamburger', 'pizza', 'falafel', 'sushi', 'meatballs',\n",
    "                         'dog', 'horse', 'cat', 'monkey', 'parrot', 'koala', 'lizard',\n",
    "                         'frog', 'toad', 'monkey', 'ape', 'kangaroo', 'wombat', 'wolf',\n",
    "                         'france', 'germany', 'hungary', 'australia', 'fiji', 'china',\n",
    "                         'homework', 'assignment', 'problem', 'exam', 'test', 'class',\n",
    "                         'school', 'college', 'university', 'institute']\n",
    "display_pca_scatterplot(model_wv,words)"
   ]
  },
  {
   "cell_type": "code",
   "execution_count": 50,
   "metadata": {
    "ExecuteTime": {
     "end_time": "2024-05-02T21:38:50.470060600Z",
     "start_time": "2024-05-02T21:38:50.351482500Z"
    }
   },
   "outputs": [],
   "source": [
    "from sklearn.manifold import TSNE\n",
    "def display_closestwords_tsnescatterplot(model, words):\n",
    "    \n",
    "    arr = np.empty((0,300), dtype='f')\n",
    "\n",
    "    # get close words\n",
    "    \n",
    "    for word in words:\n",
    "        wrd_vector = model[word]\n",
    "        arr = np.append(arr, np.array([wrd_vector]), axis=0)\n",
    "        \n",
    "    # find tsne coords for 2 dimensions\n",
    "    tsne = TSNE(n_components=2, perplexity=10,n_iter=5000)\n",
    "    np.set_printoptions(suppress=True)\n",
    "    Y = tsne.fit_transform(arr)\n",
    "\n",
    "    x_coords = Y[:, 0]\n",
    "    y_coords = Y[:, 1]\n",
    "    # display scatter plot\n",
    "    plt.scatter(x_coords, y_coords)\n",
    "\n",
    "    for label, x, y in zip(words, x_coords, y_coords):\n",
    "        plt.annotate(label, xy=(x, y), xytext=(0, 0), textcoords='offset points')\n",
    "    plt.xlim(x_coords.min()+0.00005, x_coords.max()+0.00005)\n",
    "    plt.ylim(y_coords.min()+0.00005, y_coords.max()+0.00005)\n",
    "    plt.show()\n"
   ]
  },
  {
   "cell_type": "code",
   "execution_count": 51,
   "metadata": {
    "ExecuteTime": {
     "end_time": "2024-05-02T21:38:52.466634400Z",
     "start_time": "2024-05-02T21:38:51.660372300Z"
    }
   },
   "outputs": [
    {
     "ename": "ValueError",
     "evalue": "all the input array dimensions for the concatenation axis must match exactly, but along dimension 1, the array at index 0 has size 300 and the array at index 1 has size 25",
     "output_type": "error",
     "traceback": [
      "\u001B[1;31m---------------------------------------------------------------------------\u001B[0m",
      "\u001B[1;31mValueError\u001B[0m                                Traceback (most recent call last)",
      "Cell \u001B[1;32mIn[51], line 1\u001B[0m\n\u001B[1;32m----> 1\u001B[0m \u001B[43mdisplay_closestwords_tsnescatterplot\u001B[49m\u001B[43m(\u001B[49m\u001B[43mmodel_wv\u001B[49m\u001B[43m,\u001B[49m\u001B[43m \u001B[49m\u001B[43mwords\u001B[49m\u001B[43m)\u001B[49m\n",
      "Cell \u001B[1;32mIn[50], line 10\u001B[0m, in \u001B[0;36mdisplay_closestwords_tsnescatterplot\u001B[1;34m(model, words)\u001B[0m\n\u001B[0;32m      8\u001B[0m \u001B[38;5;28;01mfor\u001B[39;00m word \u001B[38;5;129;01min\u001B[39;00m words:\n\u001B[0;32m      9\u001B[0m     wrd_vector \u001B[38;5;241m=\u001B[39m model[word]\n\u001B[1;32m---> 10\u001B[0m     arr \u001B[38;5;241m=\u001B[39m \u001B[43mnp\u001B[49m\u001B[38;5;241;43m.\u001B[39;49m\u001B[43mappend\u001B[49m\u001B[43m(\u001B[49m\u001B[43marr\u001B[49m\u001B[43m,\u001B[49m\u001B[43m \u001B[49m\u001B[43mnp\u001B[49m\u001B[38;5;241;43m.\u001B[39;49m\u001B[43marray\u001B[49m\u001B[43m(\u001B[49m\u001B[43m[\u001B[49m\u001B[43mwrd_vector\u001B[49m\u001B[43m]\u001B[49m\u001B[43m)\u001B[49m\u001B[43m,\u001B[49m\u001B[43m \u001B[49m\u001B[43maxis\u001B[49m\u001B[38;5;241;43m=\u001B[39;49m\u001B[38;5;241;43m0\u001B[39;49m\u001B[43m)\u001B[49m\n\u001B[0;32m     12\u001B[0m \u001B[38;5;66;03m# find tsne coords for 2 dimensions\u001B[39;00m\n\u001B[0;32m     13\u001B[0m tsne \u001B[38;5;241m=\u001B[39m TSNE(n_components\u001B[38;5;241m=\u001B[39m\u001B[38;5;241m2\u001B[39m, perplexity\u001B[38;5;241m=\u001B[39m\u001B[38;5;241m10\u001B[39m,n_iter\u001B[38;5;241m=\u001B[39m\u001B[38;5;241m5000\u001B[39m)\n",
      "File \u001B[1;32m<__array_function__ internals>:180\u001B[0m, in \u001B[0;36mappend\u001B[1;34m(*args, **kwargs)\u001B[0m\n",
      "File \u001B[1;32m~\\anaconda3\\lib\\site-packages\\numpy\\lib\\function_base.py:5444\u001B[0m, in \u001B[0;36mappend\u001B[1;34m(arr, values, axis)\u001B[0m\n\u001B[0;32m   5442\u001B[0m     values \u001B[38;5;241m=\u001B[39m ravel(values)\n\u001B[0;32m   5443\u001B[0m     axis \u001B[38;5;241m=\u001B[39m arr\u001B[38;5;241m.\u001B[39mndim\u001B[38;5;241m-\u001B[39m\u001B[38;5;241m1\u001B[39m\n\u001B[1;32m-> 5444\u001B[0m \u001B[38;5;28;01mreturn\u001B[39;00m \u001B[43mconcatenate\u001B[49m\u001B[43m(\u001B[49m\u001B[43m(\u001B[49m\u001B[43marr\u001B[49m\u001B[43m,\u001B[49m\u001B[43m \u001B[49m\u001B[43mvalues\u001B[49m\u001B[43m)\u001B[49m\u001B[43m,\u001B[49m\u001B[43m \u001B[49m\u001B[43maxis\u001B[49m\u001B[38;5;241;43m=\u001B[39;49m\u001B[43maxis\u001B[49m\u001B[43m)\u001B[49m\n",
      "File \u001B[1;32m<__array_function__ internals>:180\u001B[0m, in \u001B[0;36mconcatenate\u001B[1;34m(*args, **kwargs)\u001B[0m\n",
      "\u001B[1;31mValueError\u001B[0m: all the input array dimensions for the concatenation axis must match exactly, but along dimension 1, the array at index 0 has size 300 and the array at index 1 has size 25"
     ]
    }
   ],
   "source": [
    "display_closestwords_tsnescatterplot(model_wv, words)"
   ]
  }
 ],
 "metadata": {
  "kernelspec": {
   "display_name": "Python 3.9.7 64-bit",
   "language": "python",
   "name": "python3"
  },
  "language_info": {
   "codemirror_mode": {
    "name": "ipython",
    "version": 3
   },
   "file_extension": ".py",
   "mimetype": "text/x-python",
   "name": "python",
   "nbconvert_exporter": "python",
   "pygments_lexer": "ipython3",
   "version": "3.10.7"
  },
  "orig_nbformat": 4,
  "vscode": {
   "interpreter": {
    "hash": "916dbcbb3f70747c44a77c7bcd40155683ae19c65e1c03b4aa3499c5328201f1"
   }
  }
 },
 "nbformat": 4,
 "nbformat_minor": 2
}
